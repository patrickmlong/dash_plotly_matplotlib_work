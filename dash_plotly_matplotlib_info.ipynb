{
 "cells": [
  {
   "cell_type": "code",
   "execution_count": 118,
   "metadata": {},
   "outputs": [],
   "source": [
    "import pandas as pd\n",
    "import matplotlib.pyplot as plt\n",
    "import numpy as np\n",
    "%matplotlib inline"
   ]
  },
  {
   "cell_type": "code",
   "execution_count": 119,
   "metadata": {},
   "outputs": [
    {
     "data": {
      "image/png": "[encoded data removed]",
      "text/plain": [
       "<matplotlib.figure.Figure at 0x1193234d0>"
      ]
     },
     "metadata": {},
     "output_type": "display_data"
    }
   ],
   "source": [
    "x = [1,2,3,4,5,3,10,4,20]\n",
    "\n",
    "mpl_fig, ax = plt.subplots(figsize = (6,1))\n",
    "\n",
    "ax.scatter(x, [0]*len(x), marker = 's', s = 100)\n",
    "\n",
    "ax.yaxis.set_visible(False)\n",
    "ax.spines['right'].set_visible(False)\n",
    "ax.spines['left'].set_visible(False)\n",
    "ax.spines['top'].set_visible(False)\n",
    "\n",
    "plt.show()"
   ]
  },
  {
   "cell_type": "code",
   "execution_count": 120,
   "metadata": {},
   "outputs": [
    {
     "data": {
      "text/html": [
       "<script>requirejs.config({paths: { 'plotly': ['https://cdn.plot.ly/plotly-latest.min']},});if(!window.Plotly) {{require(['plotly'],function(plotly) {window.Plotly=plotly;});}}</script>"
      ],
      "text/vnd.plotly.v1+html": [
       "<script>requirejs.config({paths: { 'plotly': ['https://cdn.plot.ly/plotly-latest.min']},});if(!window.Plotly) {{require(['plotly'],function(plotly) {window.Plotly=plotly;});}}</script>"
      ]
     },
     "metadata": {},
     "output_type": "display_data"
    }
   ],
   "source": [
    "import plotly as py\n",
    "import plotly.tools as tls\n",
    "from plotly.graph_objs import Scatter, Figure, Layout\n",
    "from plotly.offline import download_plotlyjs, init_notebook_mode, plot, iplot\n",
    "init_notebook_mode(connected=True)\n"
   ]
  },
  {
   "cell_type": "code",
   "execution_count": 121,
   "metadata": {},
   "outputs": [],
   "source": [
    "# Converting to Plotly's Figure object..\n",
    "plotly_fig = tls.mpl_to_plotly(mpl_fig)"
   ]
  },
  {
   "cell_type": "code",
   "execution_count": 122,
   "metadata": {},
   "outputs": [],
   "source": [
    "plotly_fig.layout = {'autosize': True,\n",
    " 'height': 100,\n",
    " 'hovermode': 'closest',\n",
    " 'margin': {'b': 15, 'l': 54, 'pad': 0, 'r': 43, 't': 10},\n",
    " 'showlegend': False,\n",
    " 'width': 432,\n",
    " 'xaxis1': {'anchor': 'y1',\n",
    "  'domain': [0.0, 1.0],\n",
    "  'mirror': False,\n",
    "  'nticks': 0,\n",
    "  'range': [0.03357228195937878, 20.96642771804062],\n",
    "  'showgrid': False,\n",
    "  'showline': False,\n",
    "  'side': 'bottom',\n",
    "  'tickfont': {'size': 0},\n",
    "  'ticks': None,\n",
    "  'type': u'linear',\n",
    "  'zeroline': False},\n",
    " 'yaxis1': {'anchor': 'x1',\n",
    "  'domain': [0.0, 1.0],\n",
    "  'mirror': False,\n",
    "  'nticks': 0,\n",
    "  'range': [-0.10117733627667401, 0.10117733627667404],\n",
    "  'showgrid': False,\n",
    "  'showline': False,\n",
    "  'side': 'left',\n",
    "  'tickfont': {'size': 0},\n",
    "  'ticks': False,\n",
    "  'type': u'linear',\n",
    "  'zeroline': True}}"
   ]
  },
  {
   "cell_type": "code",
   "execution_count": 123,
   "metadata": {},
   "outputs": [],
   "source": [
    "# Adding some new data points ..\n",
    "#plotly_fig['data'].append( dict(x=x, y=1, type='scatter', mode='markers'))"
   ]
  },
  {
   "cell_type": "code",
   "execution_count": 124,
   "metadata": {},
   "outputs": [
    {
     "data": {
      "application/vnd.plotly.v1+json": {
       "data": [
        {
         "marker": {
          "color": "rgba(31,119,180,1.0)",
          "line": {
           "color": "rgba(31,119,180,1.0)",
           "width": 1
          },
          "size": 10,
          "symbol": "square"
         },
         "mode": "markers",
         "type": "scatter",
         "x": [
          1,
          2,
          3,
          4,
          5,
          3,
          10,
          4,
          20
         ],
         "xaxis": "x1",
         "y": [
          0,
          0,
          0,
          0,
          0,
          0,
          0,
          0,
          0
         ],
         "yaxis": "y1"
        }
       ],
       "layout": {
        "autosize": true,
        "height": 100,
        "hovermode": "closest",
        "margin": {
         "b": 15,
         "l": 54,
         "pad": 0,
         "r": 43,
         "t": 10
        },
        "showlegend": false,
        "width": 432,
        "xaxis1": {
         "anchor": "y1",
         "domain": [
          0,
          1
         ],
         "mirror": false,
         "nticks": 0,
         "range": [
          0.03357228195937878,
          20.96642771804062
         ],
         "showgrid": false,
         "showline": false,
         "side": "bottom",
         "tickfont": {
          "size": 0
         },
         "ticks": null,
         "type": "linear",
         "zeroline": false
        },
        "yaxis1": {
         "anchor": "x1",
         "domain": [
          0,
          1
         ],
         "mirror": false,
         "nticks": 0,
         "range": [
          -0.10117733627667401,
          0.10117733627667404
         ],
         "showgrid": false,
         "showline": false,
         "side": "left",
         "tickfont": {
          "size": 0
         },
         "ticks": false,
         "type": "linear",
         "zeroline": true
        }
       }
      },
      "text/html": [
       "<div id=\"afffd192-b6d7-48a8-bbff-8628b7fd0926\" style=\"height: 100px; width: 432px;\" class=\"plotly-graph-div\"></div><script type=\"text/javascript\">require([\"plotly\"], function(Plotly) { window.PLOTLYENV=window.PLOTLYENV || {};window.PLOTLYENV.BASE_URL=\"https://plot.ly\";Plotly.newPlot(\"afffd192-b6d7-48a8-bbff-8628b7fd0926\", [{\"yaxis\": \"y1\", \"marker\": {\"color\": \"rgba(31,119,180,1.0)\", \"line\": {\"color\": \"rgba(31,119,180,1.0)\", \"width\": 1.0}, \"symbol\": \"square\", \"size\": 10.0}, \"mode\": \"markers\", \"xaxis\": \"x1\", \"y\": [0.0, 0.0, 0.0, 0.0, 0.0, 0.0, 0.0, 0.0, 0.0], \"x\": [1.0, 2.0, 3.0, 4.0, 5.0, 3.0, 10.0, 4.0, 20.0], \"type\": \"scatter\"}], {\"autosize\": true, \"width\": 432, \"showlegend\": false, \"xaxis1\": {\"tickfont\": {\"size\": 0}, \"domain\": [0.0, 1.0], \"ticks\": null, \"showgrid\": false, \"range\": [0.03357228195937878, 20.96642771804062], \"mirror\": false, \"zeroline\": false, \"showline\": false, \"nticks\": 0, \"type\": \"linear\", \"anchor\": \"y1\", \"side\": \"bottom\"}, \"height\": 100, \"yaxis1\": {\"tickfont\": {\"size\": 0}, \"domain\": [0.0, 1.0], \"ticks\": false, \"showgrid\": false, \"range\": [-0.10117733627667401, 0.10117733627667404], \"mirror\": false, \"zeroline\": true, \"showline\": false, \"nticks\": 0, \"type\": \"linear\", \"anchor\": \"x1\", \"side\": \"left\"}, \"hovermode\": \"closest\", \"margin\": {\"pad\": 0, \"r\": 43, \"b\": 15, \"l\": 54, \"t\": 10}}, {\"linkText\": \"Export to plot.ly\", \"showLink\": true})});</script>"
      ],
      "text/vnd.plotly.v1+html": [
       "<div id=\"afffd192-b6d7-48a8-bbff-8628b7fd0926\" style=\"height: 100px; width: 432px;\" class=\"plotly-graph-div\"></div><script type=\"text/javascript\">require([\"plotly\"], function(Plotly) { window.PLOTLYENV=window.PLOTLYENV || {};window.PLOTLYENV.BASE_URL=\"https://plot.ly\";Plotly.newPlot(\"afffd192-b6d7-48a8-bbff-8628b7fd0926\", [{\"yaxis\": \"y1\", \"marker\": {\"color\": \"rgba(31,119,180,1.0)\", \"line\": {\"color\": \"rgba(31,119,180,1.0)\", \"width\": 1.0}, \"symbol\": \"square\", \"size\": 10.0}, \"mode\": \"markers\", \"xaxis\": \"x1\", \"y\": [0.0, 0.0, 0.0, 0.0, 0.0, 0.0, 0.0, 0.0, 0.0], \"x\": [1.0, 2.0, 3.0, 4.0, 5.0, 3.0, 10.0, 4.0, 20.0], \"type\": \"scatter\"}], {\"autosize\": true, \"width\": 432, \"showlegend\": false, \"xaxis1\": {\"tickfont\": {\"size\": 0}, \"domain\": [0.0, 1.0], \"ticks\": null, \"showgrid\": false, \"range\": [0.03357228195937878, 20.96642771804062], \"mirror\": false, \"zeroline\": false, \"showline\": false, \"nticks\": 0, \"type\": \"linear\", \"anchor\": \"y1\", \"side\": \"bottom\"}, \"height\": 100, \"yaxis1\": {\"tickfont\": {\"size\": 0}, \"domain\": [0.0, 1.0], \"ticks\": false, \"showgrid\": false, \"range\": [-0.10117733627667401, 0.10117733627667404], \"mirror\": false, \"zeroline\": true, \"showline\": false, \"nticks\": 0, \"type\": \"linear\", \"anchor\": \"x1\", \"side\": \"left\"}, \"hovermode\": \"closest\", \"margin\": {\"pad\": 0, \"r\": 43, \"b\": 15, \"l\": 54, \"t\": 10}}, {\"linkText\": \"Export to plot.ly\", \"showLink\": true})});</script>"
      ]
     },
     "metadata": {},
     "output_type": "display_data"
    }
   ],
   "source": [
    "iplot(plotly_fig)"
   ]
  },
  {
   "cell_type": "code",
   "execution_count": null,
   "metadata": {
    "collapsed": true
   },
   "outputs": [],
   "source": []
  }
 ],
 "metadata": {
  "kernelspec": {
   "display_name": "Python [default]",
   "language": "python",
   "name": "python2"
  },
  "language_info": {
   "codemirror_mode": {
    "name": "ipython",
    "version": 2
   },
   "file_extension": ".py",
   "mimetype": "text/x-python",
   "name": "python",
   "nbconvert_exporter": "python",
   "pygments_lexer": "ipython2",
   "version": "2.7.13"
  }
 },
 "nbformat": 4,
 "nbformat_minor": 2
}
